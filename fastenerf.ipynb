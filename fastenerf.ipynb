{
  "nbformat": 4,
  "nbformat_minor": 0,
  "metadata": {
    "colab": {
      "provenance": []
    },
    "kernelspec": {
      "name": "python3",
      "display_name": "Python 3"
    },
    "language_info": {
      "name": "python"
    }
  },
  "cells": [
    {
      "cell_type": "code",
      "execution_count": 28,
      "metadata": {
        "colab": {
          "base_uri": "https://localhost:8080/"
        },
        "id": "1UlK-2DGmzCA",
        "outputId": "ababdb85-22fb-49d7-fcb2-e943b67ce1c5"
      },
      "outputs": [
        {
          "output_type": "stream",
          "name": "stderr",
          "text": [
            "\r  0%|          | 0/53 [00:00<?, ?it/s]"
          ]
        },
        {
          "output_type": "stream",
          "name": "stdout",
          "text": [
            "Rendered_colors shape: torch.Size([2, 30000])\n",
            "Rendered_colors_flat shape: torch.Size([2, 30000])\n",
            "Target_flat shape: torch.Size([2, 30000])\n"
          ]
        },
        {
          "output_type": "stream",
          "name": "stderr",
          "text": [
            "  4%|▍         | 2/53 [00:00<00:11,  4.44it/s]"
          ]
        },
        {
          "output_type": "stream",
          "name": "stdout",
          "text": [
            "Rendered_colors shape: torch.Size([2, 30000])\n",
            "Rendered_colors_flat shape: torch.Size([2, 30000])\n",
            "Target_flat shape: torch.Size([2, 30000])\n",
            "Rendered_colors shape: torch.Size([2, 30000])\n",
            "Rendered_colors_flat shape: torch.Size([2, 30000])\n",
            "Target_flat shape: torch.Size([2, 30000])\n"
          ]
        },
        {
          "output_type": "stream",
          "name": "stderr",
          "text": [
            "  8%|▊         | 4/53 [00:00<00:09,  4.92it/s]"
          ]
        },
        {
          "output_type": "stream",
          "name": "stdout",
          "text": [
            "Rendered_colors shape: torch.Size([2, 30000])\n",
            "Rendered_colors_flat shape: torch.Size([2, 30000])\n",
            "Target_flat shape: torch.Size([2, 30000])\n",
            "Rendered_colors shape: torch.Size([2, 30000])\n",
            "Rendered_colors_flat shape: torch.Size([2, 30000])\n",
            "Target_flat shape: torch.Size([2, 30000])\n"
          ]
        },
        {
          "output_type": "stream",
          "name": "stderr",
          "text": [
            " 11%|█▏        | 6/53 [00:01<00:09,  5.12it/s]"
          ]
        },
        {
          "output_type": "stream",
          "name": "stdout",
          "text": [
            "Rendered_colors shape: torch.Size([2, 30000])\n",
            "Rendered_colors_flat shape: torch.Size([2, 30000])\n",
            "Target_flat shape: torch.Size([2, 30000])\n",
            "Rendered_colors shape: torch.Size([2, 30000])\n",
            "Rendered_colors_flat shape: torch.Size([2, 30000])\n",
            "Target_flat shape: torch.Size([2, 30000])\n"
          ]
        },
        {
          "output_type": "stream",
          "name": "stderr",
          "text": [
            " 15%|█▌        | 8/53 [00:01<00:08,  5.24it/s]"
          ]
        },
        {
          "output_type": "stream",
          "name": "stdout",
          "text": [
            "Rendered_colors shape: torch.Size([2, 30000])\n",
            "Rendered_colors_flat shape: torch.Size([2, 30000])\n",
            "Target_flat shape: torch.Size([2, 30000])\n",
            "Rendered_colors shape: torch.Size([2, 30000])\n",
            "Rendered_colors_flat shape: torch.Size([2, 30000])\n",
            "Target_flat shape: torch.Size([2, 30000])\n"
          ]
        },
        {
          "output_type": "stream",
          "name": "stderr",
          "text": [
            "\r 17%|█▋        | 9/53 [00:01<00:09,  4.76it/s]"
          ]
        },
        {
          "output_type": "stream",
          "name": "stdout",
          "text": [
            "Rendered_colors shape: torch.Size([2, 30000])\n",
            "Rendered_colors_flat shape: torch.Size([2, 30000])\n",
            "Target_flat shape: torch.Size([2, 30000])\n"
          ]
        },
        {
          "output_type": "stream",
          "name": "stderr",
          "text": [
            "\r 19%|█▉        | 10/53 [00:02<00:09,  4.40it/s]"
          ]
        },
        {
          "output_type": "stream",
          "name": "stdout",
          "text": [
            "Rendered_colors shape: torch.Size([2, 30000])\n",
            "Rendered_colors_flat shape: torch.Size([2, 30000])\n",
            "Target_flat shape: torch.Size([2, 30000])\n"
          ]
        },
        {
          "output_type": "stream",
          "name": "stderr",
          "text": [
            "\r 21%|██        | 11/53 [00:02<00:10,  4.20it/s]"
          ]
        },
        {
          "output_type": "stream",
          "name": "stdout",
          "text": [
            "Rendered_colors shape: torch.Size([2, 30000])\n",
            "Rendered_colors_flat shape: torch.Size([2, 30000])\n",
            "Target_flat shape: torch.Size([2, 30000])\n"
          ]
        },
        {
          "output_type": "stream",
          "name": "stderr",
          "text": [
            "\r 23%|██▎       | 12/53 [00:02<00:10,  4.05it/s]"
          ]
        },
        {
          "output_type": "stream",
          "name": "stdout",
          "text": [
            "Rendered_colors shape: torch.Size([2, 30000])\n",
            "Rendered_colors_flat shape: torch.Size([2, 30000])\n",
            "Target_flat shape: torch.Size([2, 30000])\n"
          ]
        },
        {
          "output_type": "stream",
          "name": "stderr",
          "text": [
            "\r 25%|██▍       | 13/53 [00:02<00:10,  3.93it/s]"
          ]
        },
        {
          "output_type": "stream",
          "name": "stdout",
          "text": [
            "Rendered_colors shape: torch.Size([2, 30000])\n",
            "Rendered_colors_flat shape: torch.Size([2, 30000])\n",
            "Target_flat shape: torch.Size([2, 30000])\n"
          ]
        },
        {
          "output_type": "stream",
          "name": "stderr",
          "text": [
            "\r 26%|██▋       | 14/53 [00:03<00:10,  3.90it/s]"
          ]
        },
        {
          "output_type": "stream",
          "name": "stdout",
          "text": [
            "Rendered_colors shape: torch.Size([2, 30000])\n",
            "Rendered_colors_flat shape: torch.Size([2, 30000])\n",
            "Target_flat shape: torch.Size([2, 30000])\n"
          ]
        },
        {
          "output_type": "stream",
          "name": "stderr",
          "text": [
            "\r 28%|██▊       | 15/53 [00:03<00:10,  3.79it/s]"
          ]
        },
        {
          "output_type": "stream",
          "name": "stdout",
          "text": [
            "Rendered_colors shape: torch.Size([2, 30000])\n",
            "Rendered_colors_flat shape: torch.Size([2, 30000])\n",
            "Target_flat shape: torch.Size([2, 30000])\n"
          ]
        },
        {
          "output_type": "stream",
          "name": "stderr",
          "text": [
            "\r 30%|███       | 16/53 [00:03<00:09,  3.77it/s]"
          ]
        },
        {
          "output_type": "stream",
          "name": "stdout",
          "text": [
            "Rendered_colors shape: torch.Size([2, 30000])\n",
            "Rendered_colors_flat shape: torch.Size([2, 30000])\n",
            "Target_flat shape: torch.Size([2, 30000])\n"
          ]
        },
        {
          "output_type": "stream",
          "name": "stderr",
          "text": [
            " 34%|███▍      | 18/53 [00:04<00:08,  3.97it/s]"
          ]
        },
        {
          "output_type": "stream",
          "name": "stdout",
          "text": [
            "Rendered_colors shape: torch.Size([2, 30000])\n",
            "Rendered_colors_flat shape: torch.Size([2, 30000])\n",
            "Target_flat shape: torch.Size([2, 30000])\n"
          ]
        },
        {
          "output_type": "stream",
          "name": "stderr",
          "text": [
            "\r 36%|███▌      | 19/53 [00:04<00:08,  4.24it/s]"
          ]
        },
        {
          "output_type": "stream",
          "name": "stdout",
          "text": [
            "Rendered_colors shape: torch.Size([2, 30000])\n",
            "Rendered_colors_flat shape: torch.Size([2, 30000])\n",
            "Target_flat shape: torch.Size([2, 30000])\n",
            "Rendered_colors shape: torch.Size([2, 30000])\n",
            "Rendered_colors_flat shape: torch.Size([2, 30000])\n",
            "Target_flat shape: torch.Size([2, 30000])\n"
          ]
        },
        {
          "output_type": "stream",
          "name": "stderr",
          "text": [
            " 40%|███▉      | 21/53 [00:04<00:06,  4.73it/s]"
          ]
        },
        {
          "output_type": "stream",
          "name": "stdout",
          "text": [
            "Rendered_colors shape: torch.Size([2, 30000])\n",
            "Rendered_colors_flat shape: torch.Size([2, 30000])\n",
            "Target_flat shape: torch.Size([2, 30000])\n",
            "Rendered_colors shape: torch.Size([2, 30000])\n",
            "Rendered_colors_flat shape: torch.Size([2, 30000])\n",
            "Target_flat shape: torch.Size([2, 30000])\n"
          ]
        },
        {
          "output_type": "stream",
          "name": "stderr",
          "text": [
            " 43%|████▎     | 23/53 [00:05<00:06,  5.00it/s]"
          ]
        },
        {
          "output_type": "stream",
          "name": "stdout",
          "text": [
            "Rendered_colors shape: torch.Size([2, 30000])\n",
            "Rendered_colors_flat shape: torch.Size([2, 30000])\n",
            "Target_flat shape: torch.Size([2, 30000])\n",
            "Rendered_colors shape: torch.Size([2, 30000])\n",
            "Rendered_colors_flat shape: torch.Size([2, 30000])\n",
            "Target_flat shape: torch.Size([2, 30000])\n"
          ]
        },
        {
          "output_type": "stream",
          "name": "stderr",
          "text": [
            " 47%|████▋     | 25/53 [00:05<00:05,  5.10it/s]"
          ]
        },
        {
          "output_type": "stream",
          "name": "stdout",
          "text": [
            "Rendered_colors shape: torch.Size([2, 30000])\n",
            "Rendered_colors_flat shape: torch.Size([2, 30000])\n",
            "Target_flat shape: torch.Size([2, 30000])\n",
            "Rendered_colors shape: torch.Size([2, 30000])\n",
            "Rendered_colors_flat shape: torch.Size([2, 30000])\n",
            "Target_flat shape: torch.Size([2, 30000])\n"
          ]
        },
        {
          "output_type": "stream",
          "name": "stderr",
          "text": [
            " 51%|█████     | 27/53 [00:05<00:04,  5.23it/s]"
          ]
        },
        {
          "output_type": "stream",
          "name": "stdout",
          "text": [
            "Rendered_colors shape: torch.Size([2, 30000])\n",
            "Rendered_colors_flat shape: torch.Size([2, 30000])\n",
            "Target_flat shape: torch.Size([2, 30000])\n",
            "Rendered_colors shape: torch.Size([2, 30000])\n",
            "Rendered_colors_flat shape: torch.Size([2, 30000])\n",
            "Target_flat shape: torch.Size([2, 30000])\n"
          ]
        },
        {
          "output_type": "stream",
          "name": "stderr",
          "text": [
            " 55%|█████▍    | 29/53 [00:06<00:04,  5.30it/s]"
          ]
        },
        {
          "output_type": "stream",
          "name": "stdout",
          "text": [
            "Rendered_colors shape: torch.Size([2, 30000])\n",
            "Rendered_colors_flat shape: torch.Size([2, 30000])\n",
            "Target_flat shape: torch.Size([2, 30000])\n",
            "Rendered_colors shape: torch.Size([2, 30000])\n",
            "Rendered_colors_flat shape: torch.Size([2, 30000])\n",
            "Target_flat shape: torch.Size([2, 30000])\n"
          ]
        },
        {
          "output_type": "stream",
          "name": "stderr",
          "text": [
            " 58%|█████▊    | 31/53 [00:06<00:04,  5.24it/s]"
          ]
        },
        {
          "output_type": "stream",
          "name": "stdout",
          "text": [
            "Rendered_colors shape: torch.Size([2, 30000])\n",
            "Rendered_colors_flat shape: torch.Size([2, 30000])\n",
            "Target_flat shape: torch.Size([2, 30000])\n",
            "Rendered_colors shape: torch.Size([2, 30000])\n",
            "Rendered_colors_flat shape: torch.Size([2, 30000])\n",
            "Target_flat shape: torch.Size([2, 30000])\n"
          ]
        },
        {
          "output_type": "stream",
          "name": "stderr",
          "text": [
            " 62%|██████▏   | 33/53 [00:07<00:03,  5.29it/s]"
          ]
        },
        {
          "output_type": "stream",
          "name": "stdout",
          "text": [
            "Rendered_colors shape: torch.Size([2, 30000])\n",
            "Rendered_colors_flat shape: torch.Size([2, 30000])\n",
            "Target_flat shape: torch.Size([2, 30000])\n",
            "Rendered_colors shape: torch.Size([2, 30000])\n",
            "Rendered_colors_flat shape: torch.Size([2, 30000])\n",
            "Target_flat shape: torch.Size([2, 30000])\n"
          ]
        },
        {
          "output_type": "stream",
          "name": "stderr",
          "text": [
            " 66%|██████▌   | 35/53 [00:07<00:03,  5.30it/s]"
          ]
        },
        {
          "output_type": "stream",
          "name": "stdout",
          "text": [
            "Rendered_colors shape: torch.Size([2, 30000])\n",
            "Rendered_colors_flat shape: torch.Size([2, 30000])\n",
            "Target_flat shape: torch.Size([2, 30000])\n",
            "Rendered_colors shape: torch.Size([2, 30000])\n",
            "Rendered_colors_flat shape: torch.Size([2, 30000])\n",
            "Target_flat shape: torch.Size([2, 30000])\n"
          ]
        },
        {
          "output_type": "stream",
          "name": "stderr",
          "text": [
            " 70%|██████▉   | 37/53 [00:07<00:02,  5.34it/s]"
          ]
        },
        {
          "output_type": "stream",
          "name": "stdout",
          "text": [
            "Rendered_colors shape: torch.Size([2, 30000])\n",
            "Rendered_colors_flat shape: torch.Size([2, 30000])\n",
            "Target_flat shape: torch.Size([2, 30000])\n",
            "Rendered_colors shape: torch.Size([2, 30000])\n",
            "Rendered_colors_flat shape: torch.Size([2, 30000])\n",
            "Target_flat shape: torch.Size([2, 30000])\n"
          ]
        },
        {
          "output_type": "stream",
          "name": "stderr",
          "text": [
            " 74%|███████▎  | 39/53 [00:08<00:02,  5.43it/s]"
          ]
        },
        {
          "output_type": "stream",
          "name": "stdout",
          "text": [
            "Rendered_colors shape: torch.Size([2, 30000])\n",
            "Rendered_colors_flat shape: torch.Size([2, 30000])\n",
            "Target_flat shape: torch.Size([2, 30000])\n",
            "Rendered_colors shape: torch.Size([2, 30000])\n",
            "Rendered_colors_flat shape: torch.Size([2, 30000])\n",
            "Target_flat shape: torch.Size([2, 30000])\n"
          ]
        },
        {
          "output_type": "stream",
          "name": "stderr",
          "text": [
            " 77%|███████▋  | 41/53 [00:08<00:02,  5.31it/s]"
          ]
        },
        {
          "output_type": "stream",
          "name": "stdout",
          "text": [
            "Rendered_colors shape: torch.Size([2, 30000])\n",
            "Rendered_colors_flat shape: torch.Size([2, 30000])\n",
            "Target_flat shape: torch.Size([2, 30000])\n",
            "Rendered_colors shape: torch.Size([2, 30000])\n",
            "Rendered_colors_flat shape: torch.Size([2, 30000])\n",
            "Target_flat shape: torch.Size([2, 30000])\n"
          ]
        },
        {
          "output_type": "stream",
          "name": "stderr",
          "text": [
            " 81%|████████  | 43/53 [00:08<00:01,  5.35it/s]"
          ]
        },
        {
          "output_type": "stream",
          "name": "stdout",
          "text": [
            "Rendered_colors shape: torch.Size([2, 30000])\n",
            "Rendered_colors_flat shape: torch.Size([2, 30000])\n",
            "Target_flat shape: torch.Size([2, 30000])\n",
            "Rendered_colors shape: torch.Size([2, 30000])\n",
            "Rendered_colors_flat shape: torch.Size([2, 30000])\n",
            "Target_flat shape: torch.Size([2, 30000])\n"
          ]
        },
        {
          "output_type": "stream",
          "name": "stderr",
          "text": [
            " 85%|████████▍ | 45/53 [00:09<00:01,  5.42it/s]"
          ]
        },
        {
          "output_type": "stream",
          "name": "stdout",
          "text": [
            "Rendered_colors shape: torch.Size([2, 30000])\n",
            "Rendered_colors_flat shape: torch.Size([2, 30000])\n",
            "Target_flat shape: torch.Size([2, 30000])\n",
            "Rendered_colors shape: torch.Size([2, 30000])\n",
            "Rendered_colors_flat shape: torch.Size([2, 30000])\n",
            "Target_flat shape: torch.Size([2, 30000])\n"
          ]
        },
        {
          "output_type": "stream",
          "name": "stderr",
          "text": [
            " 89%|████████▊ | 47/53 [00:09<00:01,  5.32it/s]"
          ]
        },
        {
          "output_type": "stream",
          "name": "stdout",
          "text": [
            "Rendered_colors shape: torch.Size([2, 30000])\n",
            "Rendered_colors_flat shape: torch.Size([2, 30000])\n",
            "Target_flat shape: torch.Size([2, 30000])\n",
            "Rendered_colors shape: torch.Size([2, 30000])\n",
            "Rendered_colors_flat shape: torch.Size([2, 30000])\n",
            "Target_flat shape: torch.Size([2, 30000])\n"
          ]
        },
        {
          "output_type": "stream",
          "name": "stderr",
          "text": [
            " 92%|█████████▏| 49/53 [00:10<00:00,  5.43it/s]"
          ]
        },
        {
          "output_type": "stream",
          "name": "stdout",
          "text": [
            "Rendered_colors shape: torch.Size([2, 30000])\n",
            "Rendered_colors_flat shape: torch.Size([2, 30000])\n",
            "Target_flat shape: torch.Size([2, 30000])\n",
            "Rendered_colors shape: torch.Size([2, 30000])\n",
            "Rendered_colors_flat shape: torch.Size([2, 30000])\n",
            "Target_flat shape: torch.Size([2, 30000])\n"
          ]
        },
        {
          "output_type": "stream",
          "name": "stderr",
          "text": [
            " 96%|█████████▌| 51/53 [00:10<00:00,  5.46it/s]"
          ]
        },
        {
          "output_type": "stream",
          "name": "stdout",
          "text": [
            "Rendered_colors shape: torch.Size([2, 30000])\n",
            "Rendered_colors_flat shape: torch.Size([2, 30000])\n",
            "Target_flat shape: torch.Size([2, 30000])\n",
            "Rendered_colors shape: torch.Size([2, 30000])\n",
            "Rendered_colors_flat shape: torch.Size([2, 30000])\n",
            "Target_flat shape: torch.Size([2, 30000])\n"
          ]
        },
        {
          "output_type": "stream",
          "name": "stderr",
          "text": [
            "100%|██████████| 53/53 [00:10<00:00,  4.91it/s]\n"
          ]
        },
        {
          "output_type": "stream",
          "name": "stdout",
          "text": [
            "Rendered_colors shape: torch.Size([2, 30000])\n",
            "Rendered_colors_flat shape: torch.Size([2, 30000])\n",
            "Target_flat shape: torch.Size([2, 30000])\n",
            "Epoch [1/3], Loss: 0.0740\n"
          ]
        },
        {
          "output_type": "stream",
          "name": "stderr",
          "text": [
            "\r  0%|          | 0/53 [00:00<?, ?it/s]"
          ]
        },
        {
          "output_type": "stream",
          "name": "stdout",
          "text": [
            "Rendered_colors shape: torch.Size([2, 30000])\n",
            "Rendered_colors_flat shape: torch.Size([2, 30000])\n",
            "Target_flat shape: torch.Size([2, 30000])\n"
          ]
        },
        {
          "output_type": "stream",
          "name": "stderr",
          "text": [
            "\r  2%|▏         | 1/53 [00:00<00:09,  5.52it/s]"
          ]
        },
        {
          "output_type": "stream",
          "name": "stdout",
          "text": [
            "Rendered_colors shape: torch.Size([2, 30000])\n",
            "Rendered_colors_flat shape: torch.Size([2, 30000])\n",
            "Target_flat shape: torch.Size([2, 30000])\n"
          ]
        },
        {
          "output_type": "stream",
          "name": "stderr",
          "text": [
            "\r  4%|▍         | 2/53 [00:00<00:09,  5.41it/s]"
          ]
        },
        {
          "output_type": "stream",
          "name": "stdout",
          "text": [
            "Rendered_colors shape: torch.Size([2, 30000])\n",
            "Rendered_colors_flat shape: torch.Size([2, 30000])\n",
            "Target_flat shape: torch.Size([2, 30000])\n"
          ]
        },
        {
          "output_type": "stream",
          "name": "stderr",
          "text": [
            "\r  6%|▌         | 3/53 [00:00<00:09,  5.42it/s]"
          ]
        },
        {
          "output_type": "stream",
          "name": "stdout",
          "text": [
            "Rendered_colors shape: torch.Size([2, 30000])\n",
            "Rendered_colors_flat shape: torch.Size([2, 30000])\n",
            "Target_flat shape: torch.Size([2, 30000])\n"
          ]
        },
        {
          "output_type": "stream",
          "name": "stderr",
          "text": [
            "\r  8%|▊         | 4/53 [00:00<00:09,  5.37it/s]"
          ]
        },
        {
          "output_type": "stream",
          "name": "stdout",
          "text": [
            "Rendered_colors shape: torch.Size([2, 30000])\n",
            "Rendered_colors_flat shape: torch.Size([2, 30000])\n",
            "Target_flat shape: torch.Size([2, 30000])\n"
          ]
        },
        {
          "output_type": "stream",
          "name": "stderr",
          "text": [
            "\r  9%|▉         | 5/53 [00:00<00:09,  5.31it/s]"
          ]
        },
        {
          "output_type": "stream",
          "name": "stdout",
          "text": [
            "Rendered_colors shape: torch.Size([2, 30000])\n",
            "Rendered_colors_flat shape: torch.Size([2, 30000])\n",
            "Target_flat shape: torch.Size([2, 30000])\n"
          ]
        },
        {
          "output_type": "stream",
          "name": "stderr",
          "text": [
            "\r 11%|█▏        | 6/53 [00:01<00:08,  5.38it/s]"
          ]
        },
        {
          "output_type": "stream",
          "name": "stdout",
          "text": [
            "Rendered_colors shape: torch.Size([2, 30000])\n",
            "Rendered_colors_flat shape: torch.Size([2, 30000])\n",
            "Target_flat shape: torch.Size([2, 30000])\n"
          ]
        },
        {
          "output_type": "stream",
          "name": "stderr",
          "text": [
            "\r 13%|█▎        | 7/53 [00:01<00:08,  5.44it/s]"
          ]
        },
        {
          "output_type": "stream",
          "name": "stdout",
          "text": [
            "Rendered_colors shape: torch.Size([2, 30000])\n",
            "Rendered_colors_flat shape: torch.Size([2, 30000])\n",
            "Target_flat shape: torch.Size([2, 30000])\n"
          ]
        },
        {
          "output_type": "stream",
          "name": "stderr",
          "text": [
            "\r 15%|█▌        | 8/53 [00:01<00:08,  5.35it/s]"
          ]
        },
        {
          "output_type": "stream",
          "name": "stdout",
          "text": [
            "Rendered_colors shape: torch.Size([2, 30000])\n",
            "Rendered_colors_flat shape: torch.Size([2, 30000])\n",
            "Target_flat shape: torch.Size([2, 30000])\n"
          ]
        },
        {
          "output_type": "stream",
          "name": "stderr",
          "text": [
            "\r 17%|█▋        | 9/53 [00:01<00:08,  5.32it/s]"
          ]
        },
        {
          "output_type": "stream",
          "name": "stdout",
          "text": [
            "Rendered_colors shape: torch.Size([2, 30000])\n",
            "Rendered_colors_flat shape: torch.Size([2, 30000])\n",
            "Target_flat shape: torch.Size([2, 30000])\n"
          ]
        },
        {
          "output_type": "stream",
          "name": "stderr",
          "text": [
            "\r 19%|█▉        | 10/53 [00:01<00:08,  5.29it/s]"
          ]
        },
        {
          "output_type": "stream",
          "name": "stdout",
          "text": [
            "Rendered_colors shape: torch.Size([2, 30000])\n",
            "Rendered_colors_flat shape: torch.Size([2, 30000])\n",
            "Target_flat shape: torch.Size([2, 30000])\n"
          ]
        },
        {
          "output_type": "stream",
          "name": "stderr",
          "text": [
            "\r 21%|██        | 11/53 [00:02<00:07,  5.36it/s]"
          ]
        },
        {
          "output_type": "stream",
          "name": "stdout",
          "text": [
            "Rendered_colors shape: torch.Size([2, 30000])\n",
            "Rendered_colors_flat shape: torch.Size([2, 30000])\n",
            "Target_flat shape: torch.Size([2, 30000])\n"
          ]
        },
        {
          "output_type": "stream",
          "name": "stderr",
          "text": [
            "\r 23%|██▎       | 12/53 [00:02<00:07,  5.37it/s]"
          ]
        },
        {
          "output_type": "stream",
          "name": "stdout",
          "text": [
            "Rendered_colors shape: torch.Size([2, 30000])\n",
            "Rendered_colors_flat shape: torch.Size([2, 30000])\n",
            "Target_flat shape: torch.Size([2, 30000])\n"
          ]
        },
        {
          "output_type": "stream",
          "name": "stderr",
          "text": [
            "\r 25%|██▍       | 13/53 [00:02<00:07,  5.39it/s]"
          ]
        },
        {
          "output_type": "stream",
          "name": "stdout",
          "text": [
            "Rendered_colors shape: torch.Size([2, 30000])\n",
            "Rendered_colors_flat shape: torch.Size([2, 30000])\n",
            "Target_flat shape: torch.Size([2, 30000])\n"
          ]
        },
        {
          "output_type": "stream",
          "name": "stderr",
          "text": [
            "\r 26%|██▋       | 14/53 [00:02<00:07,  5.41it/s]"
          ]
        },
        {
          "output_type": "stream",
          "name": "stdout",
          "text": [
            "Rendered_colors shape: torch.Size([2, 30000])\n",
            "Rendered_colors_flat shape: torch.Size([2, 30000])\n",
            "Target_flat shape: torch.Size([2, 30000])\n"
          ]
        },
        {
          "output_type": "stream",
          "name": "stderr",
          "text": [
            "\r 28%|██▊       | 15/53 [00:02<00:06,  5.45it/s]"
          ]
        },
        {
          "output_type": "stream",
          "name": "stdout",
          "text": [
            "Rendered_colors shape: torch.Size([2, 30000])\n",
            "Rendered_colors_flat shape: torch.Size([2, 30000])\n",
            "Target_flat shape: torch.Size([2, 30000])\n"
          ]
        },
        {
          "output_type": "stream",
          "name": "stderr",
          "text": [
            "\r 30%|███       | 16/53 [00:02<00:06,  5.36it/s]"
          ]
        },
        {
          "output_type": "stream",
          "name": "stdout",
          "text": [
            "Rendered_colors shape: torch.Size([2, 30000])\n",
            "Rendered_colors_flat shape: torch.Size([2, 30000])\n",
            "Target_flat shape: torch.Size([2, 30000])\n"
          ]
        },
        {
          "output_type": "stream",
          "name": "stderr",
          "text": [
            "\r 32%|███▏      | 17/53 [00:03<00:06,  5.41it/s]"
          ]
        },
        {
          "output_type": "stream",
          "name": "stdout",
          "text": [
            "Rendered_colors shape: torch.Size([2, 30000])\n",
            "Rendered_colors_flat shape: torch.Size([2, 30000])\n",
            "Target_flat shape: torch.Size([2, 30000])\n"
          ]
        },
        {
          "output_type": "stream",
          "name": "stderr",
          "text": [
            "\r 34%|███▍      | 18/53 [00:03<00:06,  5.34it/s]"
          ]
        },
        {
          "output_type": "stream",
          "name": "stdout",
          "text": [
            "Rendered_colors shape: torch.Size([2, 30000])\n",
            "Rendered_colors_flat shape: torch.Size([2, 30000])\n",
            "Target_flat shape: torch.Size([2, 30000])\n"
          ]
        },
        {
          "output_type": "stream",
          "name": "stderr",
          "text": [
            "\r 36%|███▌      | 19/53 [00:03<00:07,  4.76it/s]"
          ]
        },
        {
          "output_type": "stream",
          "name": "stdout",
          "text": [
            "Rendered_colors shape: torch.Size([2, 30000])\n",
            "Rendered_colors_flat shape: torch.Size([2, 30000])\n",
            "Target_flat shape: torch.Size([2, 30000])\n"
          ]
        },
        {
          "output_type": "stream",
          "name": "stderr",
          "text": [
            "\r 38%|███▊      | 20/53 [00:03<00:07,  4.47it/s]"
          ]
        },
        {
          "output_type": "stream",
          "name": "stdout",
          "text": [
            "Rendered_colors shape: torch.Size([2, 30000])\n",
            "Rendered_colors_flat shape: torch.Size([2, 30000])\n",
            "Target_flat shape: torch.Size([2, 30000])\n"
          ]
        },
        {
          "output_type": "stream",
          "name": "stderr",
          "text": [
            "\r 40%|███▉      | 21/53 [00:04<00:07,  4.33it/s]"
          ]
        },
        {
          "output_type": "stream",
          "name": "stdout",
          "text": [
            "Rendered_colors shape: torch.Size([2, 30000])\n",
            "Rendered_colors_flat shape: torch.Size([2, 30000])\n",
            "Target_flat shape: torch.Size([2, 30000])\n"
          ]
        },
        {
          "output_type": "stream",
          "name": "stderr",
          "text": [
            "\r 42%|████▏     | 22/53 [00:04<00:07,  4.19it/s]"
          ]
        },
        {
          "output_type": "stream",
          "name": "stdout",
          "text": [
            "Rendered_colors shape: torch.Size([2, 30000])\n",
            "Rendered_colors_flat shape: torch.Size([2, 30000])\n",
            "Target_flat shape: torch.Size([2, 30000])\n"
          ]
        },
        {
          "output_type": "stream",
          "name": "stderr",
          "text": [
            "\r 43%|████▎     | 23/53 [00:04<00:07,  4.09it/s]"
          ]
        },
        {
          "output_type": "stream",
          "name": "stdout",
          "text": [
            "Rendered_colors shape: torch.Size([2, 30000])\n",
            "Rendered_colors_flat shape: torch.Size([2, 30000])\n",
            "Target_flat shape: torch.Size([2, 30000])\n"
          ]
        },
        {
          "output_type": "stream",
          "name": "stderr",
          "text": [
            "\r 45%|████▌     | 24/53 [00:04<00:07,  4.01it/s]"
          ]
        },
        {
          "output_type": "stream",
          "name": "stdout",
          "text": [
            "Rendered_colors shape: torch.Size([2, 30000])\n",
            "Rendered_colors_flat shape: torch.Size([2, 30000])\n",
            "Target_flat shape: torch.Size([2, 30000])\n"
          ]
        },
        {
          "output_type": "stream",
          "name": "stderr",
          "text": [
            "\r 47%|████▋     | 25/53 [00:05<00:07,  3.97it/s]"
          ]
        },
        {
          "output_type": "stream",
          "name": "stdout",
          "text": [
            "Rendered_colors shape: torch.Size([2, 30000])\n",
            "Rendered_colors_flat shape: torch.Size([2, 30000])\n",
            "Target_flat shape: torch.Size([2, 30000])\n"
          ]
        },
        {
          "output_type": "stream",
          "name": "stderr",
          "text": [
            "\r 49%|████▉     | 26/53 [00:05<00:06,  3.90it/s]"
          ]
        },
        {
          "output_type": "stream",
          "name": "stdout",
          "text": [
            "Rendered_colors shape: torch.Size([2, 30000])\n",
            "Rendered_colors_flat shape: torch.Size([2, 30000])\n",
            "Target_flat shape: torch.Size([2, 30000])\n"
          ]
        },
        {
          "output_type": "stream",
          "name": "stderr",
          "text": [
            " 53%|█████▎    | 28/53 [00:05<00:05,  4.25it/s]"
          ]
        },
        {
          "output_type": "stream",
          "name": "stdout",
          "text": [
            "Rendered_colors shape: torch.Size([2, 30000])\n",
            "Rendered_colors_flat shape: torch.Size([2, 30000])\n",
            "Target_flat shape: torch.Size([2, 30000])\n",
            "Rendered_colors shape: torch.Size([2, 30000])\n",
            "Rendered_colors_flat shape: torch.Size([2, 30000])\n",
            "Target_flat shape: torch.Size([2, 30000])\n"
          ]
        },
        {
          "output_type": "stream",
          "name": "stderr",
          "text": [
            " 57%|█████▋    | 30/53 [00:06<00:04,  4.72it/s]"
          ]
        },
        {
          "output_type": "stream",
          "name": "stdout",
          "text": [
            "Rendered_colors shape: torch.Size([2, 30000])\n",
            "Rendered_colors_flat shape: torch.Size([2, 30000])\n",
            "Target_flat shape: torch.Size([2, 30000])\n",
            "Rendered_colors shape: torch.Size([2, 30000])\n",
            "Rendered_colors_flat shape: torch.Size([2, 30000])\n",
            "Target_flat shape: torch.Size([2, 30000])\n"
          ]
        },
        {
          "output_type": "stream",
          "name": "stderr",
          "text": [
            " 60%|██████    | 32/53 [00:06<00:04,  5.10it/s]"
          ]
        },
        {
          "output_type": "stream",
          "name": "stdout",
          "text": [
            "Rendered_colors shape: torch.Size([2, 30000])\n",
            "Rendered_colors_flat shape: torch.Size([2, 30000])\n",
            "Target_flat shape: torch.Size([2, 30000])\n",
            "Rendered_colors shape: torch.Size([2, 30000])\n",
            "Rendered_colors_flat shape: torch.Size([2, 30000])\n",
            "Target_flat shape: torch.Size([2, 30000])\n"
          ]
        },
        {
          "output_type": "stream",
          "name": "stderr",
          "text": [
            " 64%|██████▍   | 34/53 [00:06<00:03,  5.31it/s]"
          ]
        },
        {
          "output_type": "stream",
          "name": "stdout",
          "text": [
            "Rendered_colors shape: torch.Size([2, 30000])\n",
            "Rendered_colors_flat shape: torch.Size([2, 30000])\n",
            "Target_flat shape: torch.Size([2, 30000])\n",
            "Rendered_colors shape: torch.Size([2, 30000])\n",
            "Rendered_colors_flat shape: torch.Size([2, 30000])\n",
            "Target_flat shape: torch.Size([2, 30000])\n"
          ]
        },
        {
          "output_type": "stream",
          "name": "stderr",
          "text": [
            " 68%|██████▊   | 36/53 [00:07<00:03,  5.36it/s]"
          ]
        },
        {
          "output_type": "stream",
          "name": "stdout",
          "text": [
            "Rendered_colors shape: torch.Size([2, 30000])\n",
            "Rendered_colors_flat shape: torch.Size([2, 30000])\n",
            "Target_flat shape: torch.Size([2, 30000])\n",
            "Rendered_colors shape: torch.Size([2, 30000])\n",
            "Rendered_colors_flat shape: torch.Size([2, 30000])\n",
            "Target_flat shape: torch.Size([2, 30000])\n"
          ]
        },
        {
          "output_type": "stream",
          "name": "stderr",
          "text": [
            " 72%|███████▏  | 38/53 [00:07<00:02,  5.46it/s]"
          ]
        },
        {
          "output_type": "stream",
          "name": "stdout",
          "text": [
            "Rendered_colors shape: torch.Size([2, 30000])\n",
            "Rendered_colors_flat shape: torch.Size([2, 30000])\n",
            "Target_flat shape: torch.Size([2, 30000])\n",
            "Rendered_colors shape: torch.Size([2, 30000])\n",
            "Rendered_colors_flat shape: torch.Size([2, 30000])\n",
            "Target_flat shape: torch.Size([2, 30000])\n"
          ]
        },
        {
          "output_type": "stream",
          "name": "stderr",
          "text": [
            " 75%|███████▌  | 40/53 [00:08<00:02,  5.43it/s]"
          ]
        },
        {
          "output_type": "stream",
          "name": "stdout",
          "text": [
            "Rendered_colors shape: torch.Size([2, 30000])\n",
            "Rendered_colors_flat shape: torch.Size([2, 30000])\n",
            "Target_flat shape: torch.Size([2, 30000])\n",
            "Rendered_colors shape: torch.Size([2, 30000])\n",
            "Rendered_colors_flat shape: torch.Size([2, 30000])\n",
            "Target_flat shape: torch.Size([2, 30000])\n"
          ]
        },
        {
          "output_type": "stream",
          "name": "stderr",
          "text": [
            " 79%|███████▉  | 42/53 [00:08<00:02,  5.48it/s]"
          ]
        },
        {
          "output_type": "stream",
          "name": "stdout",
          "text": [
            "Rendered_colors shape: torch.Size([2, 30000])\n",
            "Rendered_colors_flat shape: torch.Size([2, 30000])\n",
            "Target_flat shape: torch.Size([2, 30000])\n",
            "Rendered_colors shape: torch.Size([2, 30000])\n",
            "Rendered_colors_flat shape: torch.Size([2, 30000])\n",
            "Target_flat shape: torch.Size([2, 30000])\n"
          ]
        },
        {
          "output_type": "stream",
          "name": "stderr",
          "text": [
            " 83%|████████▎ | 44/53 [00:08<00:01,  5.52it/s]"
          ]
        },
        {
          "output_type": "stream",
          "name": "stdout",
          "text": [
            "Rendered_colors shape: torch.Size([2, 30000])\n",
            "Rendered_colors_flat shape: torch.Size([2, 30000])\n",
            "Target_flat shape: torch.Size([2, 30000])\n",
            "Rendered_colors shape: torch.Size([2, 30000])\n",
            "Rendered_colors_flat shape: torch.Size([2, 30000])\n",
            "Target_flat shape: torch.Size([2, 30000])\n"
          ]
        },
        {
          "output_type": "stream",
          "name": "stderr",
          "text": [
            " 87%|████████▋ | 46/53 [00:09<00:01,  5.43it/s]"
          ]
        },
        {
          "output_type": "stream",
          "name": "stdout",
          "text": [
            "Rendered_colors shape: torch.Size([2, 30000])\n",
            "Rendered_colors_flat shape: torch.Size([2, 30000])\n",
            "Target_flat shape: torch.Size([2, 30000])\n",
            "Rendered_colors shape: torch.Size([2, 30000])\n",
            "Rendered_colors_flat shape: torch.Size([2, 30000])\n",
            "Target_flat shape: torch.Size([2, 30000])\n"
          ]
        },
        {
          "output_type": "stream",
          "name": "stderr",
          "text": [
            " 91%|█████████ | 48/53 [00:09<00:00,  5.49it/s]"
          ]
        },
        {
          "output_type": "stream",
          "name": "stdout",
          "text": [
            "Rendered_colors shape: torch.Size([2, 30000])\n",
            "Rendered_colors_flat shape: torch.Size([2, 30000])\n",
            "Target_flat shape: torch.Size([2, 30000])\n",
            "Rendered_colors shape: torch.Size([2, 30000])\n",
            "Rendered_colors_flat shape: torch.Size([2, 30000])\n",
            "Target_flat shape: torch.Size([2, 30000])\n"
          ]
        },
        {
          "output_type": "stream",
          "name": "stderr",
          "text": [
            " 94%|█████████▍| 50/53 [00:09<00:00,  5.50it/s]"
          ]
        },
        {
          "output_type": "stream",
          "name": "stdout",
          "text": [
            "Rendered_colors shape: torch.Size([2, 30000])\n",
            "Rendered_colors_flat shape: torch.Size([2, 30000])\n",
            "Target_flat shape: torch.Size([2, 30000])\n",
            "Rendered_colors shape: torch.Size([2, 30000])\n",
            "Rendered_colors_flat shape: torch.Size([2, 30000])\n",
            "Target_flat shape: torch.Size([2, 30000])\n"
          ]
        },
        {
          "output_type": "stream",
          "name": "stderr",
          "text": [
            " 98%|█████████▊| 52/53 [00:10<00:00,  5.41it/s]"
          ]
        },
        {
          "output_type": "stream",
          "name": "stdout",
          "text": [
            "Rendered_colors shape: torch.Size([2, 30000])\n",
            "Rendered_colors_flat shape: torch.Size([2, 30000])\n",
            "Target_flat shape: torch.Size([2, 30000])\n",
            "Rendered_colors shape: torch.Size([2, 30000])\n",
            "Rendered_colors_flat shape: torch.Size([2, 30000])\n",
            "Target_flat shape: torch.Size([2, 30000])\n"
          ]
        },
        {
          "output_type": "stream",
          "name": "stderr",
          "text": [
            "100%|██████████| 53/53 [00:10<00:00,  5.07it/s]\n"
          ]
        },
        {
          "output_type": "stream",
          "name": "stdout",
          "text": [
            "Epoch [2/3], Loss: 0.0439\n"
          ]
        },
        {
          "output_type": "stream",
          "name": "stderr",
          "text": [
            "  2%|▏         | 1/53 [00:00<00:09,  5.42it/s]"
          ]
        },
        {
          "output_type": "stream",
          "name": "stdout",
          "text": [
            "Rendered_colors shape: torch.Size([2, 30000])\n",
            "Rendered_colors_flat shape: torch.Size([2, 30000])\n",
            "Target_flat shape: torch.Size([2, 30000])\n",
            "Rendered_colors shape: torch.Size([2, 30000])\n",
            "Rendered_colors_flat shape: torch.Size([2, 30000])\n",
            "Target_flat shape: torch.Size([2, 30000])\n"
          ]
        },
        {
          "output_type": "stream",
          "name": "stderr",
          "text": [
            "\r  4%|▍         | 2/53 [00:00<00:09,  5.43it/s]"
          ]
        },
        {
          "output_type": "stream",
          "name": "stdout",
          "text": [
            "Rendered_colors shape: torch.Size([2, 30000])\n",
            "Rendered_colors_flat shape: torch.Size([2, 30000])\n",
            "Target_flat shape: torch.Size([2, 30000])\n"
          ]
        },
        {
          "output_type": "stream",
          "name": "stderr",
          "text": [
            "\r  6%|▌         | 3/53 [00:00<00:09,  5.47it/s]"
          ]
        },
        {
          "output_type": "stream",
          "name": "stdout",
          "text": [
            "Rendered_colors shape: torch.Size([2, 30000])\n",
            "Rendered_colors_flat shape: torch.Size([2, 30000])\n",
            "Target_flat shape: torch.Size([2, 30000])\n"
          ]
        },
        {
          "output_type": "stream",
          "name": "stderr",
          "text": [
            "\r  8%|▊         | 4/53 [00:00<00:09,  5.37it/s]"
          ]
        },
        {
          "output_type": "stream",
          "name": "stdout",
          "text": [
            "Rendered_colors shape: torch.Size([2, 30000])\n",
            "Rendered_colors_flat shape: torch.Size([2, 30000])\n",
            "Target_flat shape: torch.Size([2, 30000])\n"
          ]
        },
        {
          "output_type": "stream",
          "name": "stderr",
          "text": [
            "\r  9%|▉         | 5/53 [00:00<00:08,  5.45it/s]"
          ]
        },
        {
          "output_type": "stream",
          "name": "stdout",
          "text": [
            "Rendered_colors shape: torch.Size([2, 30000])\n",
            "Rendered_colors_flat shape: torch.Size([2, 30000])\n",
            "Target_flat shape: torch.Size([2, 30000])\n"
          ]
        },
        {
          "output_type": "stream",
          "name": "stderr",
          "text": [
            "\r 11%|█▏        | 6/53 [00:01<00:08,  5.45it/s]"
          ]
        },
        {
          "output_type": "stream",
          "name": "stdout",
          "text": [
            "Rendered_colors shape: torch.Size([2, 30000])\n",
            "Rendered_colors_flat shape: torch.Size([2, 30000])\n",
            "Target_flat shape: torch.Size([2, 30000])\n"
          ]
        },
        {
          "output_type": "stream",
          "name": "stderr",
          "text": [
            "\r 13%|█▎        | 7/53 [00:01<00:08,  5.45it/s]"
          ]
        },
        {
          "output_type": "stream",
          "name": "stdout",
          "text": [
            "Rendered_colors shape: torch.Size([2, 30000])\n",
            "Rendered_colors_flat shape: torch.Size([2, 30000])\n",
            "Target_flat shape: torch.Size([2, 30000])\n"
          ]
        },
        {
          "output_type": "stream",
          "name": "stderr",
          "text": [
            "\r 15%|█▌        | 8/53 [00:01<00:08,  5.42it/s]"
          ]
        },
        {
          "output_type": "stream",
          "name": "stdout",
          "text": [
            "Rendered_colors shape: torch.Size([2, 30000])\n",
            "Rendered_colors_flat shape: torch.Size([2, 30000])\n",
            "Target_flat shape: torch.Size([2, 30000])\n"
          ]
        },
        {
          "output_type": "stream",
          "name": "stderr",
          "text": [
            "\r 17%|█▋        | 9/53 [00:01<00:08,  5.38it/s]"
          ]
        },
        {
          "output_type": "stream",
          "name": "stdout",
          "text": [
            "Rendered_colors shape: torch.Size([2, 30000])\n",
            "Rendered_colors_flat shape: torch.Size([2, 30000])\n",
            "Target_flat shape: torch.Size([2, 30000])\n"
          ]
        },
        {
          "output_type": "stream",
          "name": "stderr",
          "text": [
            "\r 19%|█▉        | 10/53 [00:01<00:08,  5.33it/s]"
          ]
        },
        {
          "output_type": "stream",
          "name": "stdout",
          "text": [
            "Rendered_colors shape: torch.Size([2, 30000])\n",
            "Rendered_colors_flat shape: torch.Size([2, 30000])\n",
            "Target_flat shape: torch.Size([2, 30000])\n"
          ]
        },
        {
          "output_type": "stream",
          "name": "stderr",
          "text": [
            "\r 21%|██        | 11/53 [00:02<00:07,  5.37it/s]"
          ]
        },
        {
          "output_type": "stream",
          "name": "stdout",
          "text": [
            "Rendered_colors shape: torch.Size([2, 30000])\n",
            "Rendered_colors_flat shape: torch.Size([2, 30000])\n",
            "Target_flat shape: torch.Size([2, 30000])\n"
          ]
        },
        {
          "output_type": "stream",
          "name": "stderr",
          "text": [
            "\r 23%|██▎       | 12/53 [00:02<00:07,  5.38it/s]"
          ]
        },
        {
          "output_type": "stream",
          "name": "stdout",
          "text": [
            "Rendered_colors shape: torch.Size([2, 30000])\n",
            "Rendered_colors_flat shape: torch.Size([2, 30000])\n",
            "Target_flat shape: torch.Size([2, 30000])\n"
          ]
        },
        {
          "output_type": "stream",
          "name": "stderr",
          "text": [
            "\r 25%|██▍       | 13/53 [00:02<00:07,  5.38it/s]"
          ]
        },
        {
          "output_type": "stream",
          "name": "stdout",
          "text": [
            "Rendered_colors shape: torch.Size([2, 30000])\n",
            "Rendered_colors_flat shape: torch.Size([2, 30000])\n",
            "Target_flat shape: torch.Size([2, 30000])\n"
          ]
        },
        {
          "output_type": "stream",
          "name": "stderr",
          "text": [
            "\r 26%|██▋       | 14/53 [00:02<00:07,  5.39it/s]"
          ]
        },
        {
          "output_type": "stream",
          "name": "stdout",
          "text": [
            "Rendered_colors shape: torch.Size([2, 30000])\n",
            "Rendered_colors_flat shape: torch.Size([2, 30000])\n",
            "Target_flat shape: torch.Size([2, 30000])\n"
          ]
        },
        {
          "output_type": "stream",
          "name": "stderr",
          "text": [
            "\r 28%|██▊       | 15/53 [00:02<00:07,  5.29it/s]"
          ]
        },
        {
          "output_type": "stream",
          "name": "stdout",
          "text": [
            "Rendered_colors shape: torch.Size([2, 30000])\n",
            "Rendered_colors_flat shape: torch.Size([2, 30000])\n",
            "Target_flat shape: torch.Size([2, 30000])\n"
          ]
        },
        {
          "output_type": "stream",
          "name": "stderr",
          "text": [
            "\r 30%|███       | 16/53 [00:02<00:06,  5.35it/s]"
          ]
        },
        {
          "output_type": "stream",
          "name": "stdout",
          "text": [
            "Rendered_colors shape: torch.Size([2, 30000])\n",
            "Rendered_colors_flat shape: torch.Size([2, 30000])\n",
            "Target_flat shape: torch.Size([2, 30000])\n"
          ]
        },
        {
          "output_type": "stream",
          "name": "stderr",
          "text": [
            "\r 32%|███▏      | 17/53 [00:03<00:06,  5.41it/s]"
          ]
        },
        {
          "output_type": "stream",
          "name": "stdout",
          "text": [
            "Rendered_colors shape: torch.Size([2, 30000])\n",
            "Rendered_colors_flat shape: torch.Size([2, 30000])\n",
            "Target_flat shape: torch.Size([2, 30000])\n"
          ]
        },
        {
          "output_type": "stream",
          "name": "stderr",
          "text": [
            "\r 34%|███▍      | 18/53 [00:03<00:06,  5.43it/s]"
          ]
        },
        {
          "output_type": "stream",
          "name": "stdout",
          "text": [
            "Rendered_colors shape: torch.Size([2, 30000])\n",
            "Rendered_colors_flat shape: torch.Size([2, 30000])\n",
            "Target_flat shape: torch.Size([2, 30000])\n"
          ]
        },
        {
          "output_type": "stream",
          "name": "stderr",
          "text": [
            "\r 36%|███▌      | 19/53 [00:03<00:06,  5.45it/s]"
          ]
        },
        {
          "output_type": "stream",
          "name": "stdout",
          "text": [
            "Rendered_colors shape: torch.Size([2, 30000])\n",
            "Rendered_colors_flat shape: torch.Size([2, 30000])\n",
            "Target_flat shape: torch.Size([2, 30000])\n"
          ]
        },
        {
          "output_type": "stream",
          "name": "stderr",
          "text": [
            "\r 38%|███▊      | 20/53 [00:03<00:06,  5.44it/s]"
          ]
        },
        {
          "output_type": "stream",
          "name": "stdout",
          "text": [
            "Rendered_colors shape: torch.Size([2, 30000])\n",
            "Rendered_colors_flat shape: torch.Size([2, 30000])\n",
            "Target_flat shape: torch.Size([2, 30000])\n"
          ]
        },
        {
          "output_type": "stream",
          "name": "stderr",
          "text": [
            "\r 40%|███▉      | 21/53 [00:03<00:05,  5.38it/s]"
          ]
        },
        {
          "output_type": "stream",
          "name": "stdout",
          "text": [
            "Rendered_colors shape: torch.Size([2, 30000])\n",
            "Rendered_colors_flat shape: torch.Size([2, 30000])\n",
            "Target_flat shape: torch.Size([2, 30000])\n"
          ]
        },
        {
          "output_type": "stream",
          "name": "stderr",
          "text": [
            "\r 42%|████▏     | 22/53 [00:04<00:05,  5.43it/s]"
          ]
        },
        {
          "output_type": "stream",
          "name": "stdout",
          "text": [
            "Rendered_colors shape: torch.Size([2, 30000])\n",
            "Rendered_colors_flat shape: torch.Size([2, 30000])\n",
            "Target_flat shape: torch.Size([2, 30000])\n"
          ]
        },
        {
          "output_type": "stream",
          "name": "stderr",
          "text": [
            "\r 43%|████▎     | 23/53 [00:04<00:05,  5.44it/s]"
          ]
        },
        {
          "output_type": "stream",
          "name": "stdout",
          "text": [
            "Rendered_colors shape: torch.Size([2, 30000])\n",
            "Rendered_colors_flat shape: torch.Size([2, 30000])\n",
            "Target_flat shape: torch.Size([2, 30000])\n"
          ]
        },
        {
          "output_type": "stream",
          "name": "stderr",
          "text": [
            "\r 45%|████▌     | 24/53 [00:04<00:05,  5.42it/s]"
          ]
        },
        {
          "output_type": "stream",
          "name": "stdout",
          "text": [
            "Rendered_colors shape: torch.Size([2, 30000])\n",
            "Rendered_colors_flat shape: torch.Size([2, 30000])\n",
            "Target_flat shape: torch.Size([2, 30000])\n"
          ]
        },
        {
          "output_type": "stream",
          "name": "stderr",
          "text": [
            "\r 47%|████▋     | 25/53 [00:04<00:05,  5.41it/s]"
          ]
        },
        {
          "output_type": "stream",
          "name": "stdout",
          "text": [
            "Rendered_colors shape: torch.Size([2, 30000])\n",
            "Rendered_colors_flat shape: torch.Size([2, 30000])\n",
            "Target_flat shape: torch.Size([2, 30000])\n"
          ]
        },
        {
          "output_type": "stream",
          "name": "stderr",
          "text": [
            "\r 49%|████▉     | 26/53 [00:04<00:05,  5.34it/s]"
          ]
        },
        {
          "output_type": "stream",
          "name": "stdout",
          "text": [
            "Rendered_colors shape: torch.Size([2, 30000])\n",
            "Rendered_colors_flat shape: torch.Size([2, 30000])\n",
            "Target_flat shape: torch.Size([2, 30000])\n"
          ]
        },
        {
          "output_type": "stream",
          "name": "stderr",
          "text": [
            "\r 51%|█████     | 27/53 [00:05<00:04,  5.36it/s]"
          ]
        },
        {
          "output_type": "stream",
          "name": "stdout",
          "text": [
            "Rendered_colors shape: torch.Size([2, 30000])\n",
            "Rendered_colors_flat shape: torch.Size([2, 30000])\n",
            "Target_flat shape: torch.Size([2, 30000])\n"
          ]
        },
        {
          "output_type": "stream",
          "name": "stderr",
          "text": [
            "\r 53%|█████▎    | 28/53 [00:05<00:04,  5.39it/s]"
          ]
        },
        {
          "output_type": "stream",
          "name": "stdout",
          "text": [
            "Rendered_colors shape: torch.Size([2, 30000])\n",
            "Rendered_colors_flat shape: torch.Size([2, 30000])\n",
            "Target_flat shape: torch.Size([2, 30000])\n"
          ]
        },
        {
          "output_type": "stream",
          "name": "stderr",
          "text": [
            "\r 55%|█████▍    | 29/53 [00:05<00:04,  4.94it/s]"
          ]
        },
        {
          "output_type": "stream",
          "name": "stdout",
          "text": [
            "Rendered_colors shape: torch.Size([2, 30000])\n",
            "Rendered_colors_flat shape: torch.Size([2, 30000])\n",
            "Target_flat shape: torch.Size([2, 30000])\n"
          ]
        },
        {
          "output_type": "stream",
          "name": "stderr",
          "text": [
            "\r 57%|█████▋    | 30/53 [00:05<00:05,  4.59it/s]"
          ]
        },
        {
          "output_type": "stream",
          "name": "stdout",
          "text": [
            "Rendered_colors shape: torch.Size([2, 30000])\n",
            "Rendered_colors_flat shape: torch.Size([2, 30000])\n",
            "Target_flat shape: torch.Size([2, 30000])\n"
          ]
        },
        {
          "output_type": "stream",
          "name": "stderr",
          "text": [
            "\r 58%|█████▊    | 31/53 [00:05<00:05,  4.34it/s]"
          ]
        },
        {
          "output_type": "stream",
          "name": "stdout",
          "text": [
            "Rendered_colors shape: torch.Size([2, 30000])\n",
            "Rendered_colors_flat shape: torch.Size([2, 30000])\n",
            "Target_flat shape: torch.Size([2, 30000])\n"
          ]
        },
        {
          "output_type": "stream",
          "name": "stderr",
          "text": [
            "\r 60%|██████    | 32/53 [00:06<00:04,  4.22it/s]"
          ]
        },
        {
          "output_type": "stream",
          "name": "stdout",
          "text": [
            "Rendered_colors shape: torch.Size([2, 30000])\n",
            "Rendered_colors_flat shape: torch.Size([2, 30000])\n",
            "Target_flat shape: torch.Size([2, 30000])\n"
          ]
        },
        {
          "output_type": "stream",
          "name": "stderr",
          "text": [
            "\r 62%|██████▏   | 33/53 [00:06<00:04,  4.12it/s]"
          ]
        },
        {
          "output_type": "stream",
          "name": "stdout",
          "text": [
            "Rendered_colors shape: torch.Size([2, 30000])\n",
            "Rendered_colors_flat shape: torch.Size([2, 30000])\n",
            "Target_flat shape: torch.Size([2, 30000])\n"
          ]
        },
        {
          "output_type": "stream",
          "name": "stderr",
          "text": [
            "\r 64%|██████▍   | 34/53 [00:06<00:04,  4.10it/s]"
          ]
        },
        {
          "output_type": "stream",
          "name": "stdout",
          "text": [
            "Rendered_colors shape: torch.Size([2, 30000])\n",
            "Rendered_colors_flat shape: torch.Size([2, 30000])\n",
            "Target_flat shape: torch.Size([2, 30000])\n"
          ]
        },
        {
          "output_type": "stream",
          "name": "stderr",
          "text": [
            "\r 66%|██████▌   | 35/53 [00:06<00:04,  3.98it/s]"
          ]
        },
        {
          "output_type": "stream",
          "name": "stdout",
          "text": [
            "Rendered_colors shape: torch.Size([2, 30000])\n",
            "Rendered_colors_flat shape: torch.Size([2, 30000])\n",
            "Target_flat shape: torch.Size([2, 30000])\n"
          ]
        },
        {
          "output_type": "stream",
          "name": "stderr",
          "text": [
            "\r 68%|██████▊   | 36/53 [00:07<00:04,  3.95it/s]"
          ]
        },
        {
          "output_type": "stream",
          "name": "stdout",
          "text": [
            "Rendered_colors shape: torch.Size([2, 30000])\n",
            "Rendered_colors_flat shape: torch.Size([2, 30000])\n",
            "Target_flat shape: torch.Size([2, 30000])\n"
          ]
        },
        {
          "output_type": "stream",
          "name": "stderr",
          "text": [
            " 72%|███████▏  | 38/53 [00:07<00:03,  4.19it/s]"
          ]
        },
        {
          "output_type": "stream",
          "name": "stdout",
          "text": [
            "Rendered_colors shape: torch.Size([2, 30000])\n",
            "Rendered_colors_flat shape: torch.Size([2, 30000])\n",
            "Target_flat shape: torch.Size([2, 30000])\n"
          ]
        },
        {
          "output_type": "stream",
          "name": "stderr",
          "text": [
            "\r 74%|███████▎  | 39/53 [00:07<00:03,  4.52it/s]"
          ]
        },
        {
          "output_type": "stream",
          "name": "stdout",
          "text": [
            "Rendered_colors shape: torch.Size([2, 30000])\n",
            "Rendered_colors_flat shape: torch.Size([2, 30000])\n",
            "Target_flat shape: torch.Size([2, 30000])\n",
            "Rendered_colors shape: torch.Size([2, 30000])\n",
            "Rendered_colors_flat shape: torch.Size([2, 30000])\n",
            "Target_flat shape: torch.Size([2, 30000])\n"
          ]
        },
        {
          "output_type": "stream",
          "name": "stderr",
          "text": [
            " 77%|███████▋  | 41/53 [00:08<00:02,  4.92it/s]"
          ]
        },
        {
          "output_type": "stream",
          "name": "stdout",
          "text": [
            "Rendered_colors shape: torch.Size([2, 30000])\n",
            "Rendered_colors_flat shape: torch.Size([2, 30000])\n",
            "Target_flat shape: torch.Size([2, 30000])\n",
            "Rendered_colors shape: torch.Size([2, 30000])\n",
            "Rendered_colors_flat shape: torch.Size([2, 30000])\n",
            "Target_flat shape: torch.Size([2, 30000])\n"
          ]
        },
        {
          "output_type": "stream",
          "name": "stderr",
          "text": [
            " 81%|████████  | 43/53 [00:08<00:01,  5.19it/s]"
          ]
        },
        {
          "output_type": "stream",
          "name": "stdout",
          "text": [
            "Rendered_colors shape: torch.Size([2, 30000])\n",
            "Rendered_colors_flat shape: torch.Size([2, 30000])\n",
            "Target_flat shape: torch.Size([2, 30000])\n",
            "Rendered_colors shape: torch.Size([2, 30000])\n",
            "Rendered_colors_flat shape: torch.Size([2, 30000])\n",
            "Target_flat shape: torch.Size([2, 30000])\n"
          ]
        },
        {
          "output_type": "stream",
          "name": "stderr",
          "text": [
            " 85%|████████▍ | 45/53 [00:08<00:01,  5.27it/s]"
          ]
        },
        {
          "output_type": "stream",
          "name": "stdout",
          "text": [
            "Rendered_colors shape: torch.Size([2, 30000])\n",
            "Rendered_colors_flat shape: torch.Size([2, 30000])\n",
            "Target_flat shape: torch.Size([2, 30000])\n",
            "Rendered_colors shape: torch.Size([2, 30000])\n",
            "Rendered_colors_flat shape: torch.Size([2, 30000])\n",
            "Target_flat shape: torch.Size([2, 30000])\n"
          ]
        },
        {
          "output_type": "stream",
          "name": "stderr",
          "text": [
            " 89%|████████▊ | 47/53 [00:09<00:01,  5.34it/s]"
          ]
        },
        {
          "output_type": "stream",
          "name": "stdout",
          "text": [
            "Rendered_colors shape: torch.Size([2, 30000])\n",
            "Rendered_colors_flat shape: torch.Size([2, 30000])\n",
            "Target_flat shape: torch.Size([2, 30000])\n",
            "Rendered_colors shape: torch.Size([2, 30000])\n",
            "Rendered_colors_flat shape: torch.Size([2, 30000])\n",
            "Target_flat shape: torch.Size([2, 30000])\n"
          ]
        },
        {
          "output_type": "stream",
          "name": "stderr",
          "text": [
            " 92%|█████████▏| 49/53 [00:09<00:00,  5.40it/s]"
          ]
        },
        {
          "output_type": "stream",
          "name": "stdout",
          "text": [
            "Rendered_colors shape: torch.Size([2, 30000])\n",
            "Rendered_colors_flat shape: torch.Size([2, 30000])\n",
            "Target_flat shape: torch.Size([2, 30000])\n",
            "Rendered_colors shape: torch.Size([2, 30000])\n",
            "Rendered_colors_flat shape: torch.Size([2, 30000])\n",
            "Target_flat shape: torch.Size([2, 30000])\n"
          ]
        },
        {
          "output_type": "stream",
          "name": "stderr",
          "text": [
            " 96%|█████████▌| 51/53 [00:10<00:00,  5.38it/s]"
          ]
        },
        {
          "output_type": "stream",
          "name": "stdout",
          "text": [
            "Rendered_colors shape: torch.Size([2, 30000])\n",
            "Rendered_colors_flat shape: torch.Size([2, 30000])\n",
            "Target_flat shape: torch.Size([2, 30000])\n",
            "Rendered_colors shape: torch.Size([2, 30000])\n",
            "Rendered_colors_flat shape: torch.Size([2, 30000])\n",
            "Target_flat shape: torch.Size([2, 30000])\n"
          ]
        },
        {
          "output_type": "stream",
          "name": "stderr",
          "text": [
            "100%|██████████| 53/53 [00:10<00:00,  5.07it/s]"
          ]
        },
        {
          "output_type": "stream",
          "name": "stdout",
          "text": [
            "Rendered_colors shape: torch.Size([2, 30000])\n",
            "Rendered_colors_flat shape: torch.Size([2, 30000])\n",
            "Target_flat shape: torch.Size([2, 30000])\n",
            "Epoch [3/3], Loss: 0.0420\n"
          ]
        },
        {
          "output_type": "stream",
          "name": "stderr",
          "text": [
            "\n"
          ]
        }
      ],
      "source": [
        "import torch\n",
        "import torch.nn as nn\n",
        "import torch.nn.functional as F\n",
        "import numpy as np\n",
        "from torch.utils.data import DataLoader, Dataset\n",
        "import matplotlib.pyplot as plt\n",
        "from tqdm import tqdm\n",
        "import os\n",
        "\n",
        "\n",
        "class PositionalEncoding(nn.Module):\n",
        "    def __init__(self, L):\n",
        "        super(PositionalEncoding, self).__init__()\n",
        "        self.L = L\n",
        "\n",
        "    def forward(self, x):\n",
        "        out = [x]\n",
        "        for j in range(self.L):\n",
        "            out.append(torch.sin(2.0 ** j * x))\n",
        "            out.append(torch.cos(2.0 ** j * x))\n",
        "        return torch.cat(out, dim=-1)\n",
        "\n",
        "class FastNeRF(nn.Module):\n",
        "    def __init__(self, embedding_dim_pos=10, embedding_dim_dir=4, hidden_dim_pos=384, hidden_dim_dir=128, output_dim=30000, D=8):\n",
        "        super(FastNeRF, self).__init__()\n",
        "        self.D = D\n",
        "        # Initialize the positional path with one additional layer to output the correct number of values\n",
        "        self.F_pos = nn.Sequential(\n",
        "            nn.Linear(embedding_dim_pos * 6 + 3, hidden_dim_pos), nn.ReLU(),\n",
        "            *[nn.Sequential(nn.Linear(hidden_dim_pos, hidden_dim_pos), nn.ReLU()) for _ in range(7)],\n",
        "            nn.Linear(hidden_dim_pos, hidden_dim_pos), nn.ReLU(),  # Additional layer to maintain depth\n",
        "            nn.Linear(hidden_dim_pos, output_dim),  # Adjusted final layer to match output dimension\n",
        "        )\n",
        "        # Directional path remains unchanged; assuming it's not directly responsible for the image output\n",
        "        self.F_dir = nn.Sequential(\n",
        "            nn.Linear(embedding_dim_dir * 6 + 3, hidden_dim_dir), nn.ReLU(),\n",
        "            *[nn.Sequential(nn.Linear(hidden_dim_dir, hidden_dim_dir), nn.ReLU()) for _ in range(3)],\n",
        "            nn.Linear(hidden_dim_dir, D),\n",
        "        )\n",
        "        self.positional_encoding = PositionalEncoding(embedding_dim_pos)\n",
        "        self.directional_encoding = PositionalEncoding(embedding_dim_dir)\n",
        "\n",
        "    def forward(self, o, d):\n",
        "        o_encoded = self.positional_encoding(o)\n",
        "        d_encoded = self.directional_encoding(d)\n",
        "\n",
        "        # Positional path for RGB color output\n",
        "        color_output = self.F_pos(o_encoded)  # Adjusted to use the modified F_pos\n",
        "\n",
        "        # Softplus on the first channel for density (sigma), not directly used for color\n",
        "        sigma = torch.nn.functional.softplus(color_output[:, 0]).unsqueeze(-1)\n",
        "\n",
        "        # Assuming the output is for color, no need to reshape here as we want it flat for loss calculation\n",
        "        # If needed, you can reshape it to [batch_size, 3, 100, 100] for visualization or other purposes\n",
        "\n",
        "        # Directional encoding for view-dependent effects, not directly used for output in this refactor\n",
        "        beta = torch.softmax(self.F_dir(d_encoded), -1)  # Keep as an example of how directional info might be used\n",
        "\n",
        "        return color_output, sigma  # Return color_output directly\n",
        "\n",
        "\n",
        "def load_data():\n",
        "    if not os.path.exists('tiny_nerf_data.npz'):\n",
        "        os.system('wget http://cseweb.ucsd.edu/~viscomp/projects/LF/papers/ECCV20/nerf/tiny_nerf_data.npz')\n",
        "    data = np.load('tiny_nerf_data.npz')\n",
        "    images = data['images']\n",
        "    poses = data['poses']\n",
        "    focal = data['focal']\n",
        "    return images, poses, focal\n",
        "\n",
        "class NeRFDataset(Dataset):\n",
        "    def __init__(self, images, poses):\n",
        "        self.images = torch.from_numpy(images).float()\n",
        "        self.poses = torch.from_numpy(poses).float()\n",
        "\n",
        "    def __len__(self):\n",
        "        return len(self.images)\n",
        "\n",
        "    def __getitem__(self, idx):\n",
        "        return self.images[idx], self.poses[idx]\n",
        "\n",
        "def generate_rays(poses, focal):\n",
        "    # Placeholder implementation - you should replace this with actual ray generation logic\n",
        "    ray_origins = torch.randn(len(poses), 3)\n",
        "    ray_directions = torch.randn(len(poses), 3)\n",
        "    return ray_origins, ray_directions\n",
        "\n",
        "def train(model, optimizer, epochs, device):\n",
        "    images, poses, focal = load_data()\n",
        "    dataset = NeRFDataset(images, poses)\n",
        "    data_loader = DataLoader(dataset, batch_size=2, shuffle=True)\n",
        "\n",
        "    model.to(device)\n",
        "\n",
        "    # Assuming the model's forward method returns 'rendered_colors' with shape [batch_size, 3, height, width]\n",
        "# and your target images ('images') are initially in shape [batch_size, height, width, 3] but are reshaped to [batch_size, height*width*3]\n",
        "    for epoch in range(epochs):\n",
        "      model.train()\n",
        "      running_loss = 0.0\n",
        "\n",
        "      for images, poses in tqdm(data_loader):\n",
        "          images = images.to(device)\n",
        "          poses = poses.to(device)\n",
        "\n",
        "          optimizer.zero_grad()\n",
        "\n",
        "          # Assuming generate_rays properly implemented\n",
        "          ray_origins, ray_directions = generate_rays(poses, 1050)  # Adapt based on your setup\n",
        "\n",
        "          rendered_colors, _ = model(ray_origins, ray_directions)\n",
        "\n",
        "          # Diagnostic print statements to verify shapes\n",
        "          print(\"Rendered_colors shape:\", rendered_colors.shape)\n",
        "          rendered_colors_flat = rendered_colors.view(images.size(0), -1)\n",
        "          print(\"Rendered_colors_flat shape:\", rendered_colors_flat.shape)\n",
        "\n",
        "          target_flat = images.view(images.size(0), -1)\n",
        "          print(\"Target_flat shape:\", target_flat.shape)\n",
        "\n",
        "          loss = F.mse_loss(rendered_colors_flat, target_flat)\n",
        "          loss.backward()\n",
        "          optimizer.step()\n",
        "\n",
        "          running_loss += loss.item()\n",
        "\n",
        "      avg_loss = running_loss / len(data_loader)\n",
        "      print(f'Epoch [{epoch+1}/{epochs}], Loss: {avg_loss:.4f}')\n",
        "\n",
        "\n",
        "model = FastNeRF()\n",
        "epochs = 3\n",
        "optimizer = torch.optim.Adam(model.parameters(), lr=1e-4)\n",
        "device = torch.device(\"cuda\" if torch.cuda.is_available() else \"cpu\")\n",
        "\n",
        "train(model, optimizer, epochs, device)\n"
      ]
    },
    {
      "cell_type": "code",
      "source": [
        "import numpy as np\n",
        "\n",
        "# Define parameters\n",
        "num_images = 10  # Number of images\n",
        "image_size = (100, 100)  # Image dimensions\n",
        "num_pose_params = 6  # Number of pose parameters (e.g., position and orientation)\n",
        "focal_length = 1050  # Focal length (in pixels)\n",
        "\n",
        "# Generate synthetic data\n",
        "images = []\n",
        "poses = []\n",
        "focal_lengths = []\n",
        "\n",
        "for i in range(num_images):\n",
        "    # Generate synthetic image (placeholder)\n",
        "    # Here, you would render an image of a tree from a given pose using a rendering engine\n",
        "    # For demonstration, we'll use random noise as a placeholder\n",
        "    image = np.random.rand(*image_size, 3)  # RGB image\n",
        "\n",
        "    # Generate random pose (translation and rotation)\n",
        "    pose = np.random.rand(num_pose_params)  # Placeholder for the pose parameters\n",
        "\n",
        "    # Append data to lists\n",
        "    images.append(image)\n",
        "    poses.append(pose)\n",
        "    focal_lengths.append(focal_length)\n",
        "\n",
        "# Convert lists to numpy arrays\n",
        "images = np.array(images)\n",
        "poses = np.array(poses)\n",
        "focal_lengths = np.array(focal_lengths)\n",
        "\n",
        "# Save data to .npz file\n",
        "np.savez('tree_dataset.npz', images=images, poses=poses, focal=focal_lengths)\n"
      ],
      "metadata": {
        "id": "P5pt-X-Z7Ypc"
      },
      "execution_count": 29,
      "outputs": []
    },
    {
      "cell_type": "code",
      "source": [
        "data = np.load('tree_dataset.npz')\n",
        "images = data['images']\n",
        "poses = data['poses']\n",
        "focal = data['focal']"
      ],
      "metadata": {
        "id": "wka-A_HT7ni-"
      },
      "execution_count": 30,
      "outputs": []
    },
    {
      "cell_type": "code",
      "source": [
        "# Placeholder for loading test data\n",
        "# You need to replace this with your actual data loading logic\n",
        "#images, poses, focal = load_data()\n",
        "ray_origins_test, ray_directions_test = generate_rays(poses, 1500)  # Implement this function\n"
      ],
      "metadata": {
        "id": "INgQdSFxxLH_"
      },
      "execution_count": 31,
      "outputs": []
    },
    {
      "cell_type": "code",
      "source": [
        "# Assume model is already trained and available\n",
        "model.eval()  # Set the model to evaluation mode\n",
        "\n",
        "# Ensure test data is on the correct device\n",
        "ray_origins_test = ray_origins_test.to(device)\n",
        "ray_directions_test = ray_directions_test.to(device)\n",
        "\n",
        "with torch.no_grad():  # No need to track gradients\n",
        "    color_output, _ = model(ray_origins_test, ray_directions_test)\n",
        "    # color_output is assumed to be flattened; shape: [num_test_samples, 30000]\n"
      ],
      "metadata": {
        "id": "5yU84hbexMJY"
      },
      "execution_count": 32,
      "outputs": []
    },
    {
      "cell_type": "code",
      "source": [
        "import matplotlib.pyplot as plt\n",
        "\n",
        "# Reshape color_output to [height, width, channels] for visualization\n",
        "# Assuming color_output corresponds to a single image in this example\n",
        "image_height, image_width = 100, 100  # Adjust based on your actual image dimensions\n",
        "num_channels = 3  # RGB\n",
        "\n",
        "# Reshape and move data to CPU for visualization\n",
        "image_reshaped = color_output.view(-1, image_height, image_width, num_channels).cpu().numpy()\n",
        "\n",
        "# Select the first image if batch size > 1\n",
        "image_to_show = image_reshaped[0]\n",
        "\n",
        "# Normalize image for display\n",
        "image_to_show = (image_to_show - image_to_show.min()) / (image_to_show.max() - image_to_show.min())\n",
        "\n",
        "# Display the image\n",
        "plt.imshow(image_to_show)\n",
        "plt.title(\"Reconstructed Image\")\n",
        "plt.axis(\"off\")  # Hide axis\n",
        "plt.show()\n"
      ],
      "metadata": {
        "colab": {
          "base_uri": "https://localhost:8080/",
          "height": 428
        },
        "id": "HIqnnIK4xPse",
        "outputId": "695edf49-e0ea-4827-95f5-e55a50567ff2"
      },
      "execution_count": 33,
      "outputs": [
        {
          "output_type": "display_data",
          "data": {
            "text/plain": [
              "<Figure size 640x480 with 1 Axes>"
            ],
            "image/png": "[encoded data removed]"
          },
          "metadata": {}
        }
      ]
    }
  ]
}